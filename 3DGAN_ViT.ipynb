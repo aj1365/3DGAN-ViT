{
  "nbformat": 4,
  "nbformat_minor": 0,
  "metadata": {
    "colab": {
      "provenance": [],
      "collapsed_sections": [],
      "authorship_tag": "ABX9TyOrcfoHECvtonaiv89eCG33",
      "include_colab_link": true
    },
    "kernelspec": {
      "name": "python3",
      "display_name": "Python 3"
    },
    "language_info": {
      "name": "python"
    }
  },
  "cells": [
    {
      "cell_type": "markdown",
      "metadata": {
        "id": "view-in-github",
        "colab_type": "text"
      },
      "source": [
        "<a href=\"https://colab.research.google.com/github/aj1365/3DGAN-ViT/blob/main/3DGAN_ViT.ipynb\" target=\"_parent\"><img src=\"https://colab.research.google.com/assets/colab-badge.svg\" alt=\"Open In Colab\"/></a>"
      ]
    },
    {
      "cell_type": "code",
      "execution_count": null,
      "metadata": {
        "id": "LZ1woCjevhq-"
      },
      "outputs": [],
      "source": []
    },
    {
      "cell_type": "markdown",
      "source": [
        "### ***Importing Libraries***"
      ],
      "metadata": {
        "id": "qBGVu-ZAyRMz"
      }
    },
    {
      "cell_type": "code",
      "source": [
        "from tensorflow.python.client import device_lib\n",
        "device_lib.list_local_devices()"
      ],
      "metadata": {
        "id": "i2Rd2dVsvmTv"
      },
      "execution_count": null,
      "outputs": []
    },
    {
      "cell_type": "code",
      "source": [
        "from tensorflow import keras\n",
        "import numpy as np\n",
        "from keras.layers import Conv2D, Conv3D, Flatten, Dense, Reshape, BatchNormalization\n",
        "from keras.layers import Dropout, Input\n",
        "from keras.models import Model\n",
        "from tensorflow.keras.optimizers import Adam\n",
        "from keras.callbacks import ModelCheckpoint\n",
        "from keras.utils import np_utils\n",
        "\n",
        "from sklearn.decomposition import PCA\n",
        "from sklearn.model_selection import train_test_split\n",
        "from sklearn.metrics import confusion_matrix, accuracy_score, classification_report, cohen_kappa_score\n",
        "\n",
        "from operator import truediv\n",
        "\n",
        "from plotly.offline import init_notebook_mode\n",
        "\n",
        "import numpy as np\n",
        "import matplotlib.pyplot as plt\n",
        "import scipy.io as sio\n",
        "import os\n",
        "import spectral\n",
        "\n",
        "init_notebook_mode(connected=True)\n",
        "%matplotlib inline"
      ],
      "metadata": {
        "id": "8YvcqyINyZja"
      },
      "execution_count": null,
      "outputs": []
    },
    {
      "cell_type": "markdown",
      "source": [
        "### ***Reading data***"
      ],
      "metadata": {
        "id": "R9ngbQShybI5"
      }
    },
    {
      "cell_type": "code",
      "source": [
        "def loadData(name):\n",
        "    \n",
        "    data_path = os.path.join(os.getcwd(),'Data/')\n",
        "   \n",
        "    if name == 'SA1':\n",
        "        \n",
        "        data = sio.loadmat(os.path.join(data_path, 'SA1.mat'))['SA1']\n",
        "        Train = sio.loadmat(os.path.join(data_path, 'SA1Train.mat'))['SA1Train']\n",
        "        Test = sio.loadmat(os.path.join(data_path, 'SA1Test.mat'))['SA1Test']\n",
        "        \n",
        "    if name == 'SA2':\n",
        "        \n",
        "        data = sio.loadmat(os.path.join(data_path, 'SA2.mat'))['SA2']\n",
        "        Train = sio.loadmat(os.path.join(data_path, 'SA2Train.mat'))['SA2Train']\n",
        "        Test = sio.loadmat(os.path.join(data_path, 'SA2Test.mat'))['SA2Test']\n",
        "        \n",
        "    if name == 'SA3':\n",
        "        \n",
        "        data = sio.loadmat(os.path.join(data_path, 'SA3.mat'))['SA3']\n",
        "        Train = sio.loadmat(os.path.join(data_path, 'SA3Train.mat'))['SA3Train']\n",
        "        Test = sio.loadmat(os.path.join(data_path, 'SA3Test.mat'))['SA3Test']\n",
        "    \n",
        "    return data, Train, Test"
      ],
      "metadata": {
        "id": "OuFBgTrTvn_f"
      },
      "execution_count": null,
      "outputs": []
    },
    {
      "cell_type": "code",
      "source": [
        "## GLOBAL VARIABLES\n",
        "windowSize = 8"
      ],
      "metadata": {
        "id": "hTZljpV0voCk"
      },
      "execution_count": null,
      "outputs": []
    },
    {
      "cell_type": "code",
      "source": [
        "def splitTrainTestSet(X, y, testRatio, randomState=345):\n",
        "    X_train, X_test, y_train, y_test = train_test_split(X, y, test_size=testRatio, random_state=randomState,\n",
        "                                                        stratify=y)\n",
        "    return X_train, X_test, y_train, y_test"
      ],
      "metadata": {
        "id": "Z0sRk114vu4S"
      },
      "execution_count": null,
      "outputs": []
    },
    {
      "cell_type": "code",
      "source": [
        "def padWithZeros(X, margin=2):\n",
        "    newX = np.zeros((X.shape[0] + 2 * margin, X.shape[1] + 2* margin, X.shape[2]))\n",
        "    x_offset = margin\n",
        "    y_offset = margin\n",
        "    newX[x_offset:X.shape[0] + x_offset, y_offset:X.shape[1] + y_offset, :] = X\n",
        "    return newX"
      ],
      "metadata": {
        "id": "_We5mu-Jvu7P"
      },
      "execution_count": null,
      "outputs": []
    },
    {
      "cell_type": "code",
      "source": [
        "def createImageCubes(X, y, windowSize=8, removeZeroLabels = True):\n",
        "    margin = int((windowSize) / 2)\n",
        "    zeroPaddedX = padWithZeros(X, margin=margin)\n",
        "    # split patches\n",
        "    patchesData = np.zeros((X.shape[0] * X.shape[1], windowSize, windowSize, X.shape[2]))\n",
        "    patchesLabels = np.zeros((X.shape[0] * X.shape[1]))\n",
        "    patchIndex = 0\n",
        "    for r in range(margin, zeroPaddedX.shape[0] - margin):\n",
        "        for c in range(margin, zeroPaddedX.shape[1] - margin):\n",
        "            patch = zeroPaddedX[r - margin:r + margin , c - margin:c + margin ]   \n",
        "            patchesData[patchIndex, :, :, :] = patch\n",
        "            patchesLabels[patchIndex] = y[r-margin, c-margin]\n",
        "            patchIndex = patchIndex + 1\n",
        "    if removeZeroLabels:\n",
        "        patchesData = patchesData[patchesLabels>0,:,:,:]\n",
        "        patchesLabels = patchesLabels[patchesLabels>0]\n",
        "        patchesLabels -= 1\n",
        "    return patchesData, patchesLabels"
      ],
      "metadata": {
        "id": "ncQymguYvu-C"
      },
      "execution_count": null,
      "outputs": []
    },
    {
      "cell_type": "code",
      "source": [
        "dataset = 'SA1'\n",
        "X1 , Train1, Test1 = loadData(dataset)\n",
        "#X[X>100000]=-1\n",
        "X1[np.isnan(X1)]=-1\n",
        "X1[X1<-1000]=-1"
      ],
      "metadata": {
        "id": "yH0XRSfCvvA4"
      },
      "execution_count": null,
      "outputs": []
    },
    {
      "cell_type": "code",
      "source": [
        "dataset = 'SA2'\n",
        "X2 , Train2, Test2 = loadData(dataset)\n",
        "#X[X>100000]=-1\n",
        "X2[np.isnan(X2)]=-1\n",
        "X2[X2<-1000]=-1"
      ],
      "metadata": {
        "id": "eW7uyEo0vvEI"
      },
      "execution_count": null,
      "outputs": []
    },
    {
      "cell_type": "code",
      "source": [
        "dataset = 'SA3'\n",
        "X3 , Train3, Test3 = loadData(dataset)\n",
        "#X[X>100000]=-1\n",
        "X3[np.isnan(X3)]=-1\n",
        "X3[X3<-1000]=-1"
      ],
      "metadata": {
        "id": "BIqpLP-avvGr"
      },
      "execution_count": null,
      "outputs": []
    },
    {
      "cell_type": "code",
      "source": [
        "XTrain1, Train1 = createImageCubes(X1, Train1, windowSize=windowSize)\n",
        "XTest1, Test1 = createImageCubes(X1, Test1, windowSize=windowSize)\n",
        "\n",
        "XTrain1.shape,XTest1.shape, Train1.shape, Test1.shape"
      ],
      "metadata": {
        "id": "ekFFIAb8v537"
      },
      "execution_count": null,
      "outputs": []
    },
    {
      "cell_type": "code",
      "source": [
        "XTrain2, Train2 = createImageCubes(X2, Train2, windowSize=windowSize)\n",
        "XTest2, Test2 = createImageCubes(X2, Test2, windowSize=windowSize)\n",
        "\n",
        "XTrain2.shape,XTest2.shape, Train2.shape, Test2.shape"
      ],
      "metadata": {
        "id": "_RkQj81av57E"
      },
      "execution_count": null,
      "outputs": []
    },
    {
      "cell_type": "code",
      "source": [
        "XTrain3, Train3 = createImageCubes(X3, Train3, windowSize=windowSize)\n",
        "XTest3, Test3 = createImageCubes(X3, Test3, windowSize=windowSize)\n",
        "\n",
        "XTrain3.shape,XTest3.shape, Train3.shape, Test3.shape"
      ],
      "metadata": {
        "id": "OMQzUOecv5-H"
      },
      "execution_count": null,
      "outputs": []
    },
    {
      "cell_type": "code",
      "source": [],
      "metadata": {
        "id": "Fxn1i64Wyih8"
      },
      "execution_count": null,
      "outputs": []
    },
    {
      "cell_type": "code",
      "source": [
        "trainS = np.concatenate((XTrain1, XTrain2, XTrain3) , axis = 0)\n",
        "#trainS = trainS.reshape((trainS.shape[0],windowSize,windowSize,16,1))\n",
        "\n",
        "testS = np.concatenate((XTest1, XTest2, XTest3) , axis = 0)\n",
        "#testS = testS.reshape((testS.shape[0],windowSize,windowSize,16,1))\n",
        "\n",
        "labelTr = np.concatenate((Train1, Train2, Train3) , axis = 0)\n",
        "labelTs = np.concatenate((Test1, Test2, Test3) , axis = 0)\n"
      ],
      "metadata": {
        "id": "IxwDfMOfv6BD"
      },
      "execution_count": null,
      "outputs": []
    },
    {
      "cell_type": "code",
      "source": [
        "test_ratio=0.9\n",
        "trainS, testS2, labelTr, labelTs2 = splitTrainTestSet(trainS, labelTr, test_ratio)"
      ],
      "metadata": {
        "id": "xwhcjZpZwAoZ"
      },
      "execution_count": null,
      "outputs": []
    },
    {
      "cell_type": "code",
      "source": [
        " np.min(labelTr), np.max(labelTr)"
      ],
      "metadata": {
        "id": "Qm2yFchNwArm"
      },
      "execution_count": null,
      "outputs": []
    },
    {
      "cell_type": "code",
      "source": [],
      "metadata": {
        "id": "aBmX9ehaxQnj"
      },
      "execution_count": null,
      "outputs": []
    },
    {
      "cell_type": "markdown",
      "source": [
        "### ***Synthetic data generation with 3D GAN***"
      ],
      "metadata": {
        "id": "uP8A-cUvxRlO"
      }
    },
    {
      "cell_type": "code",
      "source": [],
      "metadata": {
        "id": "vKviMCsaxQq0"
      },
      "execution_count": null,
      "outputs": []
    },
    {
      "cell_type": "code",
      "source": [],
      "metadata": {
        "id": "DqYC7aqExQt_"
      },
      "execution_count": null,
      "outputs": []
    },
    {
      "cell_type": "code",
      "source": [
        "# For running in python 2.x\n",
        "from __future__ import print_function, unicode_literals\n",
        "from __future__ import absolute_import, division\n",
        "import numpy as np\n",
        "import tensorflow as tf\n",
        "from keras import backend as K\n",
        "from keras.layers import Input, Dropout, Dense, RepeatVector, Lambda, Reshape, Conv3D, Conv2D, Flatten, InputSpec\n",
        "from keras.layers import BatchNormalization, Concatenate, Multiply, Add, Conv2DTranspose, GlobalAveragePooling2D, MaxPool2D\n",
        "from keras.layers.advanced_activations import LeakyReLU, Softmax\n",
        "from keras.models import Model\n",
        "from tensorflow.keras import layers"
      ],
      "metadata": {
        "id": "_8gTqlmSwAur"
      },
      "execution_count": null,
      "outputs": []
    },
    {
      "cell_type": "code",
      "source": [
        "\n",
        "\n",
        "def denseGamoGenCreate(latDim, num_class):\n",
        "    noise = Input(shape=(latDim, ))\n",
        "    labels = Input(shape=(num_class, ))\n",
        "    gamoGenInput = Concatenate()([noise, labels])\n",
        "\n",
        "    x = Dense(7 * 7 * 128, use_bias=False)(gamoGenInput)\n",
        "    x = BatchNormalization(momentum=0.9)(x)\n",
        "    x = LeakyReLU()(x)\n",
        "\n",
        "    x = Reshape((7, 7, 128))(x)\n",
        "\n",
        "    x = Conv2DTranspose(64, (5, 5), strides=(1, 1), padding='same', use_bias=False)(x)\n",
        "    x = BatchNormalization(momentum=0.9)(x)\n",
        "    x = LeakyReLU()(x)\n",
        "\n",
        "\n",
        "    x = Conv2DTranspose(1, (5, 5), strides=(2, 2), padding='same', use_bias=False)(x)\n",
        "    x = BatchNormalization(momentum=0.9)(x)\n",
        "\n",
        "    gamoGenFinal = Flatten()(x)\n",
        "\n",
        "    gamoGen = Model([noise, labels], gamoGenFinal)\n",
        "    return gamoGen\n",
        "\n",
        "\n",
        "\n",
        "def denseGenProcessCreate(numMinor, dataMinor,sh,mul):\n",
        "    ip1=Input(shape=(196,))\n",
        "    x=Dense(numMinor, activation='softmax')(ip1)\n",
        "    x=RepeatVector(mul)(x)\n",
        "    z = np.reshape(dataMinor,(numMinor,mul))\n",
        "    genProcessFinal=Lambda(lambda x: K.sum(x*K.transpose(K.constant(z)), axis=2))(x)\n",
        "    genProcessReshape = Reshape(sh)(genProcessFinal)\n",
        "    genProcess=Model(ip1, genProcessReshape)\n",
        "    return genProcess\n",
        "\n",
        "def denseDisCreate(sh, num_class):\n",
        "   \n",
        "    imIn=Input(shape=sh)\n",
        "\n",
        "    conv_layer1 = Conv3D(filters=32, kernel_size=(1, 1, 7), activation='relu', padding='same')(imIn)\n",
        "    conv_layer2 = Conv3D(filters=64, kernel_size=(3, 3, 3), activation='relu',padding='same')(conv_layer1)\n",
        "    conv_layer2 = BatchNormalization()(conv_layer2)\n",
        "    #conv_layer2 = MaxPool3D(pool_size=(1,1,3))(conv_layer2)\n",
        "    \n",
        "    conv3d_shape = conv_layer2.shape\n",
        "    conv_layer2 = Reshape((conv3d_shape[1], conv3d_shape[2], conv3d_shape[3]*conv3d_shape[4]))(conv_layer2)\n",
        "    \n",
        "\n",
        "    conv_layer3 = Conv2D(filters=64, kernel_size=(1,1), activation='relu',padding='same')(conv_layer2)\n",
        "    conv_layer4 = Conv2D(filters=64, kernel_size=(3,3), activation='relu',padding='same')(conv_layer3)\n",
        "    conv_layer4 = BatchNormalization()(conv_layer4)\n",
        "    conv_layer4 = GlobalAveragePooling2D()(conv_layer4)\n",
        "    \n",
        "    flatten_layer = Flatten()(conv_layer4)\n",
        "    \n",
        "    \n",
        "    labels=Input(shape=(num_class,))\n",
        "    disInput=Concatenate()([flatten_layer, labels])\n",
        "    x=Dropout(0.5)(disInput)\n",
        "    \n",
        "    disFinal1=Dense(20, activation='relu')(x)\n",
        "    disFinal2=Dense(10, activation='relu')(disFinal1)\n",
        "    disFinal=Dense(1, activation='sigmoid', kernel_initializer=\"he_normal\")(disFinal2)\n",
        "    \n",
        "    dis=Model([imIn, labels], disFinal)\n",
        "    return dis\n",
        "\n",
        "def denseMlpCreate(sh, num_class):\n",
        "    imIn=Input(shape=sh)\n",
        "\n",
        "## convolutional layers\n",
        "    conv_layer1 = Conv3D(filters=8, kernel_size=(3, 3, 7), activation='relu', padding='same')(imIn)\n",
        "    conv_layer2 = Conv3D(filters=16, kernel_size=(3, 3, 5), activation='relu', padding='same')(conv_layer1)\n",
        "    conv_layer3 = Conv3D(filters=32, kernel_size=(3, 3, 3), activation='relu', padding='same')(conv_layer2)\n",
        "    conv3d_shape = conv_layer3.shape\n",
        "    conv_layer3 = Reshape((conv3d_shape[1], conv3d_shape[2], conv3d_shape[3]*conv3d_shape[4]))(conv_layer3)\n",
        "    conv_layer4 = Conv2D(filters=64, kernel_size=(3,3), activation='relu', padding='same')(conv_layer3)\n",
        "\n",
        "    flatten_layer = Flatten()(conv_layer4)\n",
        "    \n",
        "    x=Dropout(0.5)(flatten_layer)\n",
        "    \n",
        "    mlpFinal1 = Dense(20, activation='relu')(x)\n",
        "    mlpFinal2 = Dense(10, activation='relu')(mlpFinal1)\n",
        "    mlpFinal = Dense(num_class, activation=\"softmax\", kernel_initializer=\"he_normal\")(mlpFinal2)\n",
        "    \n",
        "    mlp=Model(imIn, mlpFinal)\n",
        "    return mlp"
      ],
      "metadata": {
        "id": "Atvhtam2wAxj"
      },
      "execution_count": null,
      "outputs": []
    },
    {
      "cell_type": "code",
      "source": [
        "# For running in python 2.x\n",
        "from __future__ import print_function, unicode_literals\n",
        "from __future__ import absolute_import, division\n",
        "\n",
        "import sys\n",
        "import numpy as np\n",
        "from sklearn.metrics import confusion_matrix\n",
        "from scipy.spatial.distance import cdist\n",
        "from keras.utils.np_utils import to_categorical\n",
        "\n",
        "def relabel(labelTr, labelTs):\n",
        "    unqLab, pInClass=np.unique(labelTr, return_counts=True)\n",
        "    sortedUnqLab=np.argsort(pInClass, kind='mergesort')\n",
        "    c=sortedUnqLab.shape[0]\n",
        "    labelsNewTr=np.zeros((labelTr.shape[0],))-1\n",
        "    labelsNewTs=np.zeros((labelTs.shape[0],))-1\n",
        "    pInClass=np.sort(pInClass)\n",
        "    classMap=list()\n",
        "    for i in range(c):\n",
        "        labelsNewTr[labelTr==unqLab[sortedUnqLab[i]]]=i\n",
        "        labelsNewTs[labelTs==unqLab[sortedUnqLab[i]]]=i\n",
        "        classMap.append(np.where(labelsNewTr==i)[0])\n",
        "    return labelsNewTr, labelsNewTs, c, pInClass, classMap, sortedUnqLab\n",
        "\n",
        "def irFind(pInClass, c, irIgnore=1):\n",
        "    ir=pInClass[-1]/pInClass\n",
        "    imbalancedCls=np.arange(c)[ir>irIgnore]\n",
        "    toBalance=np.subtract(pInClass[-1], pInClass[imbalancedCls])\n",
        "    imbClsNum=toBalance.shape[0]\n",
        "    if imbClsNum==0: sys.exit('No imbalanced classes found, exiting ...')\n",
        "    return imbalancedCls, toBalance, imbClsNum, ir\n",
        "\n",
        "def fileRead(fileName):\n",
        "    dataTotal=np.loadtxt(fileName, delimiter=',')\n",
        "    data=dataTotal[:, :-1]\n",
        "    labels=dataTotal[:, -1]\n",
        "    return data, labels\n",
        "\n",
        "def indices(pLabel, tLabel):\n",
        "    confMat=confusion_matrix(tLabel, pLabel)\n",
        "    nc=np.sum(confMat, axis=1)\n",
        "    tp=np.diagonal(confMat)\n",
        "    tpr=tp/nc\n",
        "    acsa=np.mean(tpr)\n",
        "    gm=np.prod(tpr)**(1/confMat.shape[0])\n",
        "    acc=np.sum(tp)/np.sum(nc)\n",
        "    return acsa, gm, tpr, confMat, acc\n",
        "\n",
        "def randomLabelGen(toBalance, batchSize, c):\n",
        "    cumProb=np.cumsum(toBalance/np.sum(toBalance))\n",
        "    bins=np.insert(cumProb, 0, 0)\n",
        "    randomValue=np.random.rand(batchSize,)\n",
        "    randLabel=np.digitize(randomValue, bins)-1\n",
        "    randLabel_cat=to_categorical(randLabel)\n",
        "    labelPadding=np.zeros((batchSize, c-randLabel_cat.shape[1]))\n",
        "    randLabel_cat=np.hstack((randLabel_cat, labelPadding))\n",
        "    return randLabel_cat\n",
        "\n",
        "def batchDivision(n, batchSize):\n",
        "    numBatches, residual=int(np.ceil(n/batchSize)), int(n%batchSize)\n",
        "    if residual==0:\n",
        "        residual=batchSize\n",
        "    batchDiv=np.zeros((numBatches+1,1), dtype='int64')\n",
        "    batchSizeStore=np.ones((numBatches, 1), dtype='int64')\n",
        "    batchSizeStore[0:-1, 0]=batchSize\n",
        "    batchSizeStore[-1, 0]=residual\n",
        "    for i in range(numBatches):\n",
        "        batchDiv[i]=i*batchSize\n",
        "    batchDiv[numBatches]=batchDiv[numBatches-1]+residual\n",
        "    return batchDiv, numBatches, batchSizeStore\n",
        "\n",
        "def rearrange(labelsCat, numImbCls):\n",
        "    labels=np.argmax(labelsCat, axis=1)\n",
        "    arrangeMap=list()\n",
        "    for i in range(numImbCls):\n",
        "        arrangeMap.append(np.where(labels==i)[0])\n",
        "    return arrangeMap"
      ],
      "metadata": {
        "id": "NETBlDm-wA0k"
      },
      "execution_count": null,
      "outputs": []
    },
    {
      "cell_type": "code",
      "source": [
        "from __future__ import print_function, unicode_literals\n",
        "from __future__ import absolute_import, division"
      ],
      "metadata": {
        "id": "zgilrMP2v6D0"
      },
      "execution_count": null,
      "outputs": []
    },
    {
      "cell_type": "code",
      "source": [
        "import os\n",
        "import numpy as np\n",
        "import matplotlib.pyplot as plt\n",
        "from keras.preprocessing import image\n",
        "from keras.layers import Input\n",
        "from keras.models import Model\n",
        "from tensorflow.keras.optimizers import Adam\n",
        "from keras.utils.np_utils import to_categorical"
      ],
      "metadata": {
        "id": "S-KyuVLgwYJ0"
      },
      "execution_count": null,
      "outputs": []
    },
    {
      "cell_type": "code",
      "source": [
        "data_path = 'Data'\n",
        "fileName=['SA_trainData.csv', 'SA_testData.csv']\n",
        "fileStart=data_path + 'SavedModel/'+'Salinas_GAMO'\n",
        "fileEnd, savePath='_Model.h5', fileStart+'/'\n",
        "adamOpt=Adam(0.0002, 0.5)\n",
        "latDim, modelSamplePd, resSamplePd=100,1000, 500\n",
        "plt.ion()"
      ],
      "metadata": {
        "id": "gCsK7Z1CwYM0"
      },
      "execution_count": null,
      "outputs": []
    },
    {
      "cell_type": "code",
      "source": [
        "batchSize, max_step=64,30000 #30000\n",
        "\n",
        "#trainS, labelTr=spp.fileRead(fileName[0])\n",
        "#testS, labelTs=spp.fileRead(fileName[1])"
      ],
      "metadata": {
        "id": "EpqY0zYAwYP6"
      },
      "execution_count": null,
      "outputs": []
    },
    {
      "cell_type": "code",
      "source": [
        "labelTr, labelTs, c, pInClass, classMap, sortedUnqLab=relabel(labelTr, labelTs)\n"
      ],
      "metadata": {
        "id": "NlAjRgVUv6G-"
      },
      "execution_count": null,
      "outputs": []
    },
    {
      "cell_type": "code",
      "source": [
        "imbalancedCls, toBalance, imbClsNum, ir=irFind(pInClass, c)"
      ],
      "metadata": {
        "id": "cUTZ28MIv6J8"
      },
      "execution_count": null,
      "outputs": []
    },
    {
      "cell_type": "code",
      "source": [
        "labelsCat=to_categorical(labelTr)"
      ],
      "metadata": {
        "id": "MASvRKaHwj1x"
      },
      "execution_count": null,
      "outputs": []
    },
    {
      "cell_type": "code",
      "source": [
        "shuffleIndex=np.random.choice(np.arange(n), size=(n,), replace=False)\n",
        "trainS=trainS[shuffleIndex]\n",
        "labelTr=labelTr[shuffleIndex]\n",
        "labelsCat=labelsCat[shuffleIndex]\n",
        "classMap=list()\n",
        "for i in range(c):\n",
        "    classMap.append(np.where(labelTr==i)[0])"
      ],
      "metadata": {
        "id": "Lg-zMJQ0wj5L"
      },
      "execution_count": null,
      "outputs": []
    },
    {
      "cell_type": "code",
      "source": [
        "# model initialization\n",
        "sh=(windowSize,windowSize,16,1,)\n",
        "mlp=denseMlpCreate(sh,8)\n",
        "mlp.compile(loss='mean_squared_error', optimizer=adamOpt)\n",
        "mlp.trainable=False\n",
        "\n",
        "dis=denseDisCreate(sh,8)\n",
        "dis.compile(loss='mean_squared_error', optimizer=adamOpt)\n",
        "dis.trainable=False"
      ],
      "metadata": {
        "id": "jQHircoPwj78"
      },
      "execution_count": null,
      "outputs": []
    },
    {
      "cell_type": "code",
      "source": [
        "gen=denseGamoGenCreate(latDim,8)"
      ],
      "metadata": {
        "id": "ZkuaVrNlwj_L"
      },
      "execution_count": null,
      "outputs": []
    },
    {
      "cell_type": "code",
      "source": [
        "gen_processed, genP_mlp, genP_dis=list(), list(), list()\n",
        "for i in range(imbClsNum):\n",
        "    dataMinor=trainS[classMap[i], :]\n",
        "    numMinor=dataMinor.shape[0]\n",
        "    print(dataMinor.shape)\n",
        "    print(numMinor)\n",
        "    gen_processed.append(denseGenProcessCreate(numMinor, dataMinor,sh = (windowSize,windowSize,16,1),mul = windowSize*windowSize*16 ))\n",
        "\n",
        "    ip1=Input(shape=(latDim,))\n",
        "    ip2=Input(shape=(c,))\n",
        "    op1=gen([ip1, ip2])\n",
        "    op2=gen_processed[i](op1)\n",
        "    op3=mlp(op2)\n",
        "    genP_mlp.append(Model(inputs=[ip1, ip2], outputs=op3))\n",
        "    genP_mlp[i].compile(loss='mean_squared_error', optimizer=adamOpt)\n",
        "\n",
        "    ip1=Input(shape=(latDim,))\n",
        "    ip2=Input(shape=(c,))\n",
        "    ip3=Input(shape=(c,))\n",
        "    op1=gen([ip1, ip2])\n",
        "    op2=gen_processed[i](op1)\n",
        "    op3=dis([op2, ip3])\n",
        "    genP_dis.append(Model(inputs=[ip1, ip2, ip3], outputs=op3))\n",
        "    genP_dis[i].compile(loss='mean_squared_error', optimizer=adamOpt)"
      ],
      "metadata": {
        "id": "fubefcjDwkBY"
      },
      "execution_count": null,
      "outputs": []
    },
    {
      "cell_type": "code",
      "source": [
        "batchDiv, numBatches, bSStore=batchDivision(n, batchSize)\n",
        "genClassPoints=int(np.ceil(batchSize/c))\n",
        "#fig, axs=plt.subplots(imbClsNum, 3)"
      ],
      "metadata": {
        "id": "DEbDlmsdwrjO"
      },
      "execution_count": null,
      "outputs": []
    },
    {
      "cell_type": "code",
      "source": [
        "if not os.path.exists(fileStart):\n",
        "    os.makedirs(fileStart)\n",
        "picPath=savePath+'Pictures'\n",
        "if not os.path.exists(picPath):\n",
        "    os.makedirs(picPath)"
      ],
      "metadata": {
        "id": "TgdMM1Dqwrme"
      },
      "execution_count": null,
      "outputs": []
    },
    {
      "cell_type": "code",
      "source": [
        "iter=int(np.ceil(max_step/resSamplePd)+1)\n",
        "acsaSaveTr, gmSaveTr, accSaveTr=np.zeros((iter,)), np.zeros((iter,)), np.zeros((iter,))\n",
        "acsaSaveTs, gmSaveTs, accSaveTs=np.zeros((iter,)), np.zeros((iter,)), np.zeros((iter,))\n",
        "confMatSaveTr, confMatSaveTs=np.zeros((iter, c, c)), np.zeros((iter, c, c))\n",
        "tprSaveTr, tprSaveTs=np.zeros((iter, c)), np.zeros((iter, c))"
      ],
      "metadata": {
        "id": "MLYAcSvYwrpa"
      },
      "execution_count": null,
      "outputs": []
    },
    {
      "cell_type": "code",
      "source": [
        "step=0\n",
        "while step<max_step:\n",
        "    for j in range(numBatches):\n",
        "        x1, x2=batchDiv[j, 0], batchDiv[j+1, 0]\n",
        "        validR=np.ones((bSStore[j, 0],1))-np.random.uniform(0,0.1, size=(bSStore[j, 0], 1))\n",
        "        mlp.train_on_batch(trainS[x1:x2], labelsCat[x1:x2])\n",
        "        dis.train_on_batch([trainS[x1:x2], labelsCat[x1:x2]], validR)\n",
        "\n",
        "        invalid=np.zeros((bSStore[j, 0], 1))+np.random.uniform(0, 0.1, size=(bSStore[j, 0], 1))\n",
        "        randNoise=np.random.normal(0, 1, (bSStore[j, 0], latDim))\n",
        "        fakeLabel=randomLabelGen(toBalance, bSStore[j, 0], c)\n",
        "        rLPerClass=rearrange(fakeLabel, imbClsNum)\n",
        "        fakePoints=np.zeros((bSStore[j, 0],windowSize,windowSize,16,1))\n",
        "        genFinal=gen.predict([randNoise, fakeLabel])\n",
        "        for i1 in range(imbClsNum):\n",
        "            if rLPerClass[i1].shape[0]!=0:\n",
        "                temp=genFinal[rLPerClass[i1]]\n",
        "                fakePoints[rLPerClass[i1]]=gen_processed[i1].predict(temp)\n",
        "\n",
        "        mlp.train_on_batch(fakePoints, fakeLabel)\n",
        "        dis.train_on_batch([fakePoints, fakeLabel], invalid)\n",
        "\n",
        "        for i1 in range(imbClsNum):\n",
        "            validA=np.ones((genClassPoints, 1))\n",
        "            randomLabel=np.zeros((genClassPoints, c))\n",
        "            randomLabel[:, i1]=1\n",
        "            randNoise=np.random.normal(0, 1, (genClassPoints, latDim))\n",
        "            oppositeLabel=np.ones((genClassPoints, c))-randomLabel\n",
        "            genP_mlp[i1].train_on_batch([randNoise, randomLabel], oppositeLabel)\n",
        "            genP_dis[i1].train_on_batch([randNoise, randomLabel, randomLabel], validA)\n",
        "\n",
        "        if step%resSamplePd==0:\n",
        "            saveStep=int(step//resSamplePd)\n",
        "\n",
        "            pLabel=np.argmax(mlp.predict(trainS), axis=1)\n",
        "            acsa, gm, tpr, confMat, acc=indices(pLabel, labelTr)\n",
        "            print('Train: Step: ', step, 'ACSA: ', np.round(acsa, 4), 'GM: ', np.round(gm, 4))\n",
        "            print('TPR: ', np.round(tpr, 2))\n",
        "            acsaSaveTr[saveStep], gmSaveTr[saveStep], accSaveTr[saveStep]=acsa, gm, acc\n",
        "            confMatSaveTr[saveStep]=confMat\n",
        "            tprSaveTr[saveStep]=tpr\n",
        "\n",
        "            pLabel=np.argmax(mlp.predict(testS), axis=1)\n",
        "            acsa, gm, tpr, confMat, acc=indices(pLabel, labelTs)\n",
        "            print('Test: Step: ', step, 'ACSA: ', np.round(acsa, 4), 'GM: ', np.round(gm, 4))\n",
        "            print('TPR: ', np.round(tpr, 2))\n",
        "            acsaSaveTs[saveStep], gmSaveTs[saveStep], accSaveTs[saveStep]=acsa, gm, acc\n",
        "            confMatSaveTs[saveStep]=confMat\n",
        "            tprSaveTs[saveStep]=tpr\n",
        "\n",
        "\n",
        "        if step%modelSamplePd==0 and step!=0:\n",
        "            direcPath=savePath+'gamo_models_'+str(step)\n",
        "            if not os.path.exists(direcPath):\n",
        "                os.makedirs(direcPath)\n",
        "            gen.save(direcPath+'/GEN_'+str(step)+fileEnd)\n",
        "            mlp.save(direcPath+'/MLP_'+str(step)+fileEnd)\n",
        "            dis.save(direcPath+'/DIS_'+str(step)+fileEnd)\n",
        "            for i in range(imbClsNum):\n",
        "                gen_processed[i].save(direcPath+'/GenP_'+str(i)+'_'+str(step)+fileEnd)\n",
        "\n",
        "        step=step+2\n",
        "        if step>=max_step: break"
      ],
      "metadata": {
        "id": "ynRpf_V-wrsp"
      },
      "execution_count": null,
      "outputs": []
    },
    {
      "cell_type": "code",
      "source": [
        "pLabel=np.argmax(mlp.predict(testS), axis=1)\n",
        "acsa, gm, tpr, confMat, acc=indices(pLabel, labelTs)\n",
        "print('Performance on Test Set: Step: ', step, 'ACSA: ', np.round(acsa, 4), 'GM: ', np.round(gm, 4))\n",
        "print('TPR: ', np.round(tpr, 2))\n",
        "acsaSaveTs[-1], gmSaveTs[-1], accSaveTs[-1]=acsa, gm, acc\n",
        "confMatSaveTs[-1]=confMat\n",
        "tprSaveTs[-1]=tpr"
      ],
      "metadata": {
        "id": "bwLwy5Snwxzt"
      },
      "execution_count": null,
      "outputs": []
    },
    {
      "cell_type": "code",
      "source": [
        "# Classification Report\n",
        "print(classification_report(labelTs, (pLabel),\n",
        "      target_names = [\n",
        "\"Bog\",\n",
        "\"Water\",\n",
        "\"Marsh\",\n",
        "\"Crop\",\n",
        "\"Forested Wetland\",\n",
        "\"Shrub Wetland\",\n",
        "\"Urban\",\n",
        "\"Fen\"\n",
        "\n",
        "\n",
        "                      ]))"
      ],
      "metadata": {
        "id": "Ax1rH01Zwx27"
      },
      "execution_count": null,
      "outputs": []
    },
    {
      "cell_type": "code",
      "source": [
        "ca = np.sum(pLabel == labelTs) / labelTs.shape[0]\n",
        "\n",
        "print(\"Classification accuracy: %.5f\" % ca)"
      ],
      "metadata": {
        "id": "lBw31DC4wx5n"
      },
      "execution_count": null,
      "outputs": []
    },
    {
      "cell_type": "code",
      "source": [
        "direcPath=savePath+'gamo_models_'+str(step)\n",
        "if not os.path.exists(direcPath):\n",
        "    os.makedirs(direcPath)\n",
        "gen.save(direcPath+'/GEN_'+str(step)+fileEnd)\n",
        "mlp.save(direcPath+'/MLP_'+str(step)+fileEnd)\n",
        "dis.save(direcPath+'/DIS_'+str(step)+fileEnd)\n",
        "for i in range(imbClsNum):\n",
        "    gen_processed[i].save(direcPath+'/GenP_'+str(i)+'_'+str(step)+fileEnd)"
      ],
      "metadata": {
        "id": "7cC3074Xwx8k"
      },
      "execution_count": null,
      "outputs": []
    },
    {
      "cell_type": "code",
      "source": [
        "resSave=savePath+'Results.txt'\n",
        "np.savez(resSave, acsa=acsa, gm=gm, tpr=tpr, confMat=confMat, acc=acc)\n",
        "recordSave=savePath+'Record.txt'\n",
        "np.savez(recordSave, acsaSaveTr=acsaSaveTr, gmSaveTr=gmSaveTr, accSaveTr=accSaveTr, acsaSaveTs=acsaSaveTs, gmSaveTs=gmSaveTs, accSaveTs=accSaveTs, confMatSaveTr=confMatSaveTr, confMatSaveTs=confMatSaveTs, tprSaveTr=tprSaveTr, tprSaveTs=tprSaveTs)"
      ],
      "metadata": {
        "id": "SLjHJqzjwx_J"
      },
      "execution_count": null,
      "outputs": []
    },
    {
      "cell_type": "code",
      "source": [
        "X = np.concatenate((trainS , testS) , axis = 0)\n",
        "print(X.shape)\n",
        "Y = np.concatenate((labelTr , labelTs) , axis = 0)\n",
        "Y.shape"
      ],
      "metadata": {
        "id": "iCb4KpHCwyCl"
      },
      "execution_count": null,
      "outputs": []
    },
    {
      "cell_type": "code",
      "source": [
        "unqLab, pInClass=np.unique(labelTr, return_counts=True)\n",
        "print(unqLab,pInClass)\n",
        "pInClass = 1792 - pInClass\n",
        "print(pInClass)"
      ],
      "metadata": {
        "id": "MpB5s3sKwrvf"
      },
      "execution_count": null,
      "outputs": []
    },
    {
      "cell_type": "code",
      "source": [
        "#y = []\n",
        "for i1 in range(pInClass.shape[0] - 1):\n",
        "  testNoise=np.random.normal(0, 1, (pInClass[i1], latDim))\n",
        "  testLabel=np.zeros((pInClass[i1], c))\n",
        "  testLabel[:, i1]=1\n",
        "  genFinal=gen.predict([testNoise, testLabel])\n",
        "  genImages=gen_processed[i1].predict(genFinal)\n",
        "  genImages=np.reshape(genImages, (pInClass[i1], 8,8,16,1))\n",
        "  X =  np.concatenate((X , genImages) , axis = 0)\n",
        "  Y =  np.concatenate((Y , np.argmax(testLabel, axis=1)) , axis = 0)\n",
        "print(X.shape)\n",
        "print(np.array(Y).shape)"
      ],
      "metadata": {
        "id": "bzAHjeQXwkD8"
      },
      "execution_count": null,
      "outputs": []
    },
    {
      "cell_type": "code",
      "source": [
        "import scipy.io as sio\n",
        "sio.savemat('Data/X_Avalon.mat', {'X':X})\n",
        "sio.savemat('Data/Y_Avalon.mat', {'Y':Y})"
      ],
      "metadata": {
        "id": "jjwppOtrwkGt"
      },
      "execution_count": null,
      "outputs": []
    },
    {
      "cell_type": "code",
      "source": [],
      "metadata": {
        "id": "6X8rpVPGxFZB"
      },
      "execution_count": null,
      "outputs": []
    },
    {
      "cell_type": "markdown",
      "source": [
        "### ***Vision Transformer***"
      ],
      "metadata": {
        "id": "JF7fHpodxf36"
      }
    },
    {
      "cell_type": "code",
      "source": [
        "################################           Reading mat file\n",
        "\n",
        "X=sio.loadmat('Data/X_Avalon.mat')\n",
        "Y=sio.loadmat('Data/Y_Avalon.mat')\n",
        "X = X['X']\n",
        "Y = Y['Y']\n",
        "Y=Y.reshape(Y[0].shape)\n",
        "Y.shape, X.shape"
      ],
      "metadata": {
        "id": "J6eL_SxKxFcU"
      },
      "execution_count": null,
      "outputs": []
    },
    {
      "cell_type": "code",
      "source": [
        "windowSize=8"
      ],
      "metadata": {
        "id": "fh9IiaO5xFfS"
      },
      "execution_count": null,
      "outputs": []
    },
    {
      "cell_type": "code",
      "source": [
        "X = X.reshape((X.shape[0],windowSize,windowSize,16))\n",
        "X.shape"
      ],
      "metadata": {
        "id": "Q0G7J02axqtk"
      },
      "execution_count": null,
      "outputs": []
    },
    {
      "cell_type": "code",
      "source": [
        "Xtrain= X\n",
        "ytrain= Y"
      ],
      "metadata": {
        "id": "mSo-EvSexqwr"
      },
      "execution_count": null,
      "outputs": []
    },
    {
      "cell_type": "code",
      "source": [
        "import numpy as np\n",
        "import tensorflow as tf\n",
        "from tensorflow import keras\n",
        "from tensorflow.keras import layers\n",
        "import tensorflow_addons as tfa"
      ],
      "metadata": {
        "id": "XNx5jNGIxqz0"
      },
      "execution_count": null,
      "outputs": []
    },
    {
      "cell_type": "code",
      "source": [
        "num_classes = 8\n",
        "input_shape = (8, 8, 16)"
      ],
      "metadata": {
        "id": "leL_-nQOxq2d"
      },
      "execution_count": null,
      "outputs": []
    },
    {
      "cell_type": "code",
      "source": [
        "learning_rate = 0.001\n",
        "weight_decay = 0.0001\n",
        "batch_size = 256\n",
        "num_epochs = 100\n",
        "image_size = 8  # We'll resize input images to this size\n",
        "patch_size = 2  # Size of the patches to be extract from the input images\n",
        "num_patches = (image_size // patch_size) ** 2\n",
        "projection_dim = 32\n",
        "num_heads = 8\n",
        "transformer_units = [\n",
        "    projection_dim * 2,\n",
        "    projection_dim,\n",
        "]  # Size of the transformer layers\n",
        "transformer_layers = 8\n",
        "mlp_head_units = [64, 128]  "
      ],
      "metadata": {
        "id": "XqnATWIhxFh-"
      },
      "execution_count": null,
      "outputs": []
    },
    {
      "cell_type": "code",
      "source": [
        "data_augmentation = keras.Sequential(\n",
        "    [\n",
        "        layers.Normalization(),\n",
        "        layers.Resizing(image_size, image_size),\n",
        "        layers.RandomFlip(\"horizontal\"),\n",
        "        layers.RandomRotation(factor=0.02),\n",
        "        layers.RandomZoom(\n",
        "            height_factor=0.2, width_factor=0.2\n",
        "        ),\n",
        "    ],\n",
        "    name=\"data_augmentation\",\n",
        ")\n",
        "# Compute the mean and the variance of the training data for normalization.\n",
        "data_augmentation.layers[0].adapt(Xtrain)"
      ],
      "metadata": {
        "id": "Z3He8f2WxFki"
      },
      "execution_count": null,
      "outputs": []
    },
    {
      "cell_type": "code",
      "source": [
        "def mlp(x, hidden_units, dropout_rate):\n",
        "    for units in hidden_units:\n",
        "        x = layers.Dense(units, activation=tf.nn.gelu)(x)\n",
        "        x = layers.Dropout(dropout_rate)(x)\n",
        "    return x"
      ],
      "metadata": {
        "id": "Rlv8ogZSx_wp"
      },
      "execution_count": null,
      "outputs": []
    },
    {
      "cell_type": "code",
      "source": [
        "class Patches(layers.Layer):\n",
        "    def __init__(self, patch_size):\n",
        "        super(Patches, self).__init__()\n",
        "        self.patch_size = patch_size\n",
        "\n",
        "    def call(self, images):\n",
        "        batch_size = tf.shape(images)[0]\n",
        "        patches = tf.image.extract_patches(\n",
        "            images=images,\n",
        "            sizes=[1, self.patch_size, self.patch_size, 1],\n",
        "            strides=[1, self.patch_size, self.patch_size, 1],\n",
        "            rates=[1, 1, 1, 1],\n",
        "            padding=\"VALID\",\n",
        "        )\n",
        "        patch_dims = patches.shape[-1]\n",
        "        patches = tf.reshape(patches, [batch_size, -1, patch_dims])\n",
        "        return patches"
      ],
      "metadata": {
        "id": "0XJkLP7gx_0G"
      },
      "execution_count": null,
      "outputs": []
    },
    {
      "cell_type": "code",
      "source": [
        "class PatchEncoder(layers.Layer):\n",
        "    def __init__(self, num_patches, projection_dim):\n",
        "        super(PatchEncoder, self).__init__()\n",
        "        self.num_patches = num_patches\n",
        "        self.projection = layers.Dense(units=projection_dim)\n",
        "        self.position_embedding = layers.Embedding(\n",
        "            input_dim=num_patches, output_dim=projection_dim\n",
        "        )\n",
        "\n",
        "    def call(self, patch):\n",
        "        positions = tf.range(start=0, limit=self.num_patches, delta=1)\n",
        "        encoded = self.projection(patch) + self.position_embedding(positions)\n",
        "        return encoded"
      ],
      "metadata": {
        "id": "46vKqq1_x_3D"
      },
      "execution_count": null,
      "outputs": []
    },
    {
      "cell_type": "code",
      "source": [
        "def create_vit_classifier():\n",
        "   \n",
        "    inputs = layers.Input(shape=input_shape)\n",
        "    \n",

        "############################################### ViT classifier\n",
        "\n",
        "# Compute the mean and the variance of the training data for normalization.\n",
        "   # data_augmentation.layers[0].adapt(x)\n",
        "    # Augment data.\n",
        "    augmented = data_augmentation(inputs)\n",
        "    # Create patches.\n",
        "    patches = Patches(patch_size)(inputs)\n",
        "    # Encode patches.\n",
        "    encoded_patches = PatchEncoder(num_patches, projection_dim)(patches)\n",
        "\n",
        "    # Create multiple layers of the Transformer block.\n",
        "    for _ in range(transformer_layers):\n",
        "        # Layer normalization 1.\n",
        "        x1 = layers.LayerNormalization(epsilon=1e-6)(encoded_patches)\n",
        "        # Create a multi-head attention layer.\n",
        "        attention_output = layers.MultiHeadAttention(\n",
        "            num_heads=num_heads, key_dim=projection_dim, dropout=0.1\n",
        "        )(x1, x1)\n",
        "        # Skip connection 1.\n",
        "        x2 = layers.Add()([attention_output, encoded_patches])\n",
        "        # Layer normalization 2.\n",
        "        x3 = layers.LayerNormalization(epsilon=1e-6)(x2)\n",
        "        # MLP.\n",
        "        x3 = mlp(x3, hidden_units=transformer_units, dropout_rate=0.1)\n",
        "        # Skip connection 2.\n",
        "        encoded_patches = layers.Add()([x3, x2])\n",
        "\n",
        "    # Create a [batch_size, projection_dim] tensor.\n",
        "    representation = layers.LayerNormalization(epsilon=1e-6)(encoded_patches)\n",
        "    representation = layers.Flatten()(representation)\n",
        "    representation = layers.Dropout(0.5)(representation)\n",
        "    # Add MLP.\n",
        "    features = mlp(representation, hidden_units=mlp_head_units, dropout_rate=0.5)\n",
        "    # Classify outputs.\n",
        "    logits = layers.Dense(num_classes)(features)\n",
        "    # Create the Keras model.\n",
        "    model = keras.Model(inputs=inputs, outputs=logits)\n",
        "    return model"
      ],
      "metadata": {
        "id": "lKSmh52Cx_57"
      },
      "execution_count": null,
      "outputs": []
    },
    {
      "cell_type": "code",
      "source": [
        "model = create_vit_classifier()"
      ],
      "metadata": {
        "id": "TEC3TVADx_82"
      },
      "execution_count": null,
      "outputs": []
    },
    {
      "cell_type": "code",
      "source": [
        "\n",
        "optimizer = tfa.optimizers.AdamW(\n",
        "        learning_rate=learning_rate, weight_decay=weight_decay\n",
        "    )\n",
        "\n",
        "model.compile(\n",
        "        optimizer=optimizer,\n",
        "        loss=keras.losses.SparseCategoricalCrossentropy(from_logits=True),\n",
        "        metrics=[\n",
        "            keras.metrics.SparseCategoricalAccuracy(name=\"accuracy\"),\n",
        "            keras.metrics.SparseTopKCategoricalAccuracy(5, name=\"top-5-accuracy\"),\n",
        "        ],\n",
        "    )\n",
        "\n",
        "checkpoint_filepath = \"ViT/checkpoint\"\n",
        "checkpoint_callback = keras.callbacks.ModelCheckpoint(\n",
        "        checkpoint_filepath,\n",
        "        monitor=\"val_accuracy\",\n",
        "        save_best_only=True,\n",
        "        save_weights_only=True,\n",
        "    )\n",
        "\n",
        "history = model.fit(\n",
        "        x=Xtrain,\n",
        "        y=ytrain,\n",
        "        batch_size=batch_size,\n",
        "        epochs=100,\n",
        "        validation_split=0.1,\n",
        "    \n",
        "    )\n"
      ],
      "metadata": {
        "id": "Ar1WZWihyAAX"
      },
      "execution_count": null,
      "outputs": []
    },
    {
      "cell_type": "code",
      "source": [],
      "metadata": {
        "id": "dqYSAkQkvoFq"
      },
      "execution_count": null,
      "outputs": []
    },
    {
      "cell_type": "code",
      "source": [],
      "metadata": {
        "id": "-3mQgBK8voId"
      },
      "execution_count": null,
      "outputs": []
    },
    {
      "cell_type": "code",
      "source": [],
      "metadata": {
        "id": "RJ5tzY2qvoLI"
      },
      "execution_count": null,
      "outputs": []
    },
    {
      "cell_type": "code",
      "source": [],
      "metadata": {
        "id": "TNyQIOImvoN1"
      },
      "execution_count": null,
      "outputs": []
    }
  ]
}
